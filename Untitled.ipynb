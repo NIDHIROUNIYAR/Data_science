{
 "cells": [
  {
   "cell_type": "markdown",
   "id": "2661eaad-4ef6-495e-991a-3672131797d6",
   "metadata": {},
   "source": [
    "# "
   ]
  },
  {
   "cell_type": "code",
   "execution_count": 5,
   "id": "bcc76805-8f5c-4cec-9b69-af3037607cd3",
   "metadata": {},
   "outputs": [
    {
     "name": "stdout",
     "output_type": "stream",
     "text": [
      "Helloworld\n"
     ]
    }
   ],
   "source": [
    "print(\"Helloworld\")#thisis my first programer\n",
    "\n",
    "\n",
    "\n"
   ]
  },
  {
   "cell_type": "code",
   "execution_count": 3,
   "id": "c0c302c0-4efb-44ef-8714-8971de65ceca",
   "metadata": {},
   "outputs": [
    {
     "name": "stdout",
     "output_type": "stream",
     "text": [
      "i love python\n"
     ]
    }
   ],
   "source": [
    "print(\"i love python\")\n"
   ]
  },
  {
   "cell_type": "code",
   "execution_count": 16,
   "id": "8e5d1b6c-8361-4cb5-8081-c75c079052e6",
   "metadata": {},
   "outputs": [],
   "source": [
    "x=2"
   ]
  },
  {
   "cell_type": "code",
   "execution_count": null,
   "id": "0ddb6c9d-3f52-41c8-bd30-2908308a0d50",
   "metadata": {},
   "outputs": [],
   "source": []
  },
  {
   "cell_type": "code",
   "execution_count": 18,
   "id": "7b07eec4-b03c-4650-8e30-4d52e49bd2cb",
   "metadata": {},
   "outputs": [
    {
     "data": {
      "text/plain": [
       "2"
      ]
     },
     "execution_count": 18,
     "metadata": {},
     "output_type": "execute_result"
    }
   ],
   "source": [
    "x"
   ]
  },
  {
   "cell_type": "code",
   "execution_count": 20,
   "id": "ff680e9c-0755-4142-a360-508cbedced2a",
   "metadata": {},
   "outputs": [],
   "source": [
    "X=2"
   ]
  },
  {
   "cell_type": "code",
   "execution_count": 22,
   "id": "5fad1c2f-65c8-4603-9bdd-cfb62448d0ae",
   "metadata": {},
   "outputs": [
    {
     "data": {
      "text/plain": [
       "2"
      ]
     },
     "execution_count": 22,
     "metadata": {},
     "output_type": "execute_result"
    }
   ],
   "source": [
    "X"
   ]
  },
  {
   "cell_type": "code",
   "execution_count": 30,
   "id": "6753f145-8adc-4c5a-b91f-ddf430b87e1e",
   "metadata": {},
   "outputs": [
    {
     "name": "stdout",
     "output_type": "stream",
     "text": [
      "x= 2\n"
     ]
    }
   ],
   "source": [
    "print('x=', x)"
   ]
  },
  {
   "cell_type": "code",
   "execution_count": 32,
   "id": "b3b211b2-377e-486b-b86f-0f10243848c6",
   "metadata": {},
   "outputs": [
    {
     "name": "stdout",
     "output_type": "stream",
     "text": [
      "x= 2\n"
     ]
    }
   ],
   "source": [
    "print('x=',X)\n",
    "      "
   ]
  },
  {
   "cell_type": "code",
   "execution_count": 55,
   "id": "deae74c8-bcf1-4277-8cac-cb38ef6f04c1",
   "metadata": {},
   "outputs": [],
   "source": [
    "langugae=\"python\"\n",
    "name=\"nidhi\"\n"
   ]
  },
  {
   "cell_type": "markdown",
   "id": "6ef7da86-2ed4-4687-9f9d-5ee4369c715f",
   "metadata": {},
   "source": [
    "# "
   ]
  },
  {
   "cell_type": "code",
   "execution_count": 53,
   "id": "c9706482-9f2c-44f4-b762-232a7a4f0451",
   "metadata": {},
   "outputs": [
    {
     "name": "stdout",
     "output_type": "stream",
     "text": [
      "language = python\n"
     ]
    }
   ],
   "source": [
    "print('language =',langugae)"
   ]
  },
  {
   "cell_type": "code",
   "execution_count": 95,
   "id": "4669f3a9-a889-4c4e-a4ed-d57881502f63",
   "metadata": {},
   "outputs": [
    {
     "ename": "NameError",
     "evalue": "name 'language' is not defined",
     "output_type": "error",
     "traceback": [
      "\u001b[1;31m---------------------------------------------------------------------------\u001b[0m",
      "\u001b[1;31mNameError\u001b[0m                                 Traceback (most recent call last)",
      "Cell \u001b[1;32mIn[95], line 1\u001b[0m\n\u001b[1;32m----> 1\u001b[0m \u001b[38;5;28mprint\u001b[39m(\u001b[38;5;124m'\u001b[39m\u001b[38;5;124mlanguage=\u001b[39m\u001b[38;5;124m'\u001b[39m,language)\n",
      "\u001b[1;31mNameError\u001b[0m: name 'language' is not defined"
     ]
    }
   ],
   "source": [
    "print('language=',language)\n"
   ]
  },
  {
   "cell_type": "code",
   "execution_count": 89,
   "id": "be952a98-0e1b-4331-be8f-b561fd71869d",
   "metadata": {},
   "outputs": [
    {
     "name": "stdout",
     "output_type": "stream",
     "text": [
      "name= nidhi\n"
     ]
    }
   ],
   "source": [
    "print('name=',name)"
   ]
  },
  {
   "cell_type": "code",
   "execution_count": 91,
   "id": "81373d0e-0754-4d61-93a7-0c0f14b070db",
   "metadata": {},
   "outputs": [
    {
     "ename": "SyntaxError",
     "evalue": "invalid decimal literal (509023573.py, line 1)",
     "output_type": "error",
     "traceback": [
      "\u001b[1;36m  Cell \u001b[1;32mIn[91], line 1\u001b[1;36m\u001b[0m\n\u001b[1;33m    7name=\"Harry\" #we can not use number at the begining of variable\u001b[0m\n\u001b[1;37m    ^\u001b[0m\n\u001b[1;31mSyntaxError\u001b[0m\u001b[1;31m:\u001b[0m invalid decimal literal\n"
     ]
    }
   ],
   "source": [
    "7name=\"Harry\" #we can not use number at the begining of variable"
   ]
  },
  {
   "cell_type": "code",
   "execution_count": 65,
   "id": "06a53268-8a7e-44f9-9bb2-1f71cbc9a4f8",
   "metadata": {},
   "outputs": [],
   "source": [
    "name7=\"sarah\""
   ]
  },
  {
   "cell_type": "code",
   "execution_count": 71,
   "id": "0174d430-5d65-481b-b312-7133936b317e",
   "metadata": {},
   "outputs": [
    {
     "name": "stdout",
     "output_type": "stream",
     "text": [
      "country= Nepal\n"
     ]
    }
   ],
   "source": [
    "country=\"Nepal\"\n",
    "print(\"country=\",country)"
   ]
  },
  {
   "cell_type": "markdown",
   "id": "83e146da-073b-477d-b7b1-9e605fe9007c",
   "metadata": {},
   "source": [
    "# "
   ]
  },
  {
   "cell_type": "code",
   "execution_count": 73,
   "id": "700d309a-3015-4703-a969-21eb245cb4d5",
   "metadata": {},
   "outputs": [
    {
     "name": "stdout",
     "output_type": "stream",
     "text": [
      "COUNTRY= USA\n"
     ]
    }
   ],
   "source": [
    "COUNTRY=\"USA\"\n",
    "print(\"COUNTRY=\",COUNTRY)"
   ]
  },
  {
   "cell_type": "code",
   "execution_count": 77,
   "id": "e3380d77-2c06-4599-87f0-f252c823d2b8",
   "metadata": {},
   "outputs": [
    {
     "name": "stdout",
     "output_type": "stream",
     "text": [
      "name= nidhi\n"
     ]
    }
   ],
   "source": [
    "name=\"nidhi\"\n",
    "age=\"24\"\n",
    "height=5.3\n",
    "fruits=\"apple\"\n",
    "print(\"name=\",name)"
   ]
  },
  {
   "cell_type": "raw",
   "id": "a665c8ce-5772-48a2-ba3d-9cca1d6c097c",
   "metadata": {},
   "source": [
    "print(\"age=\",age)"
   ]
  },
  {
   "cell_type": "markdown",
   "id": "5e305795-0e7a-4879-94f4-ab5086e409fe",
   "metadata": {},
   "source": [
    "# "
   ]
  },
  {
   "cell_type": "code",
   "execution_count": 79,
   "id": "40668754-18c6-40ae-bcf9-71e5c76a7c1a",
   "metadata": {},
   "outputs": [
    {
     "name": "stdout",
     "output_type": "stream",
     "text": [
      "fruits= apple\n"
     ]
    }
   ],
   "source": [
    "print(\"fruits=\",fruits)"
   ]
  },
  {
   "cell_type": "code",
   "execution_count": 81,
   "id": "658a8ace-1fad-450b-ab3e-2e75adea461b",
   "metadata": {},
   "outputs": [
    {
     "name": "stdout",
     "output_type": "stream",
     "text": [
      "country= Nepal\n"
     ]
    }
   ],
   "source": [
    "print(\"country=\",country)"
   ]
  },
  {
   "cell_type": "code",
   "execution_count": 83,
   "id": "df8c7b8c-b1a1-4101-a374-5f9731af5b80",
   "metadata": {},
   "outputs": [
    {
     "name": "stdout",
     "output_type": "stream",
     "text": [
      "COUNTRY= USA\n"
     ]
    }
   ],
   "source": [
    "print(\"COUNTRY=\",COUNTRY)"
   ]
  },
  {
   "cell_type": "code",
   "execution_count": null,
   "id": "74389aef-b474-435e-95b1-38b16e7718e4",
   "metadata": {},
   "outputs": [],
   "source": [
    "#adiition(+)\n",
    "2+3\n",
    "5\n",
    "#subtraction(-)\n",
    "4-6\n",
    "-2\n"
   ]
  },
  {
   "cell_type": "code",
   "execution_count": 1,
   "id": "b12222d7-c114-461d-8ef5-bedf1168e39f",
   "metadata": {},
   "outputs": [],
   "source": [
    "x=7*(3+8-4)/6"
   ]
  },
  {
   "cell_type": "code",
   "execution_count": 3,
   "id": "1d3b9636-9078-4f9f-94d0-e24f4e53ae25",
   "metadata": {},
   "outputs": [
    {
     "data": {
      "text/plain": [
       "8.166666666666666"
      ]
     },
     "execution_count": 3,
     "metadata": {},
     "output_type": "execute_result"
    }
   ],
   "source": [
    "x"
   ]
  },
  {
   "cell_type": "code",
   "execution_count": 1,
   "id": "fd3330ee-26ff-4248-8865-af6e080ce4c5",
   "metadata": {},
   "outputs": [
    {
     "data": {
      "text/plain": [
       "False"
      ]
     },
     "execution_count": 1,
     "metadata": {},
     "output_type": "execute_result"
    }
   ],
   "source": [
    "2==3"
   ]
  },
  {
   "cell_type": "code",
   "execution_count": 3,
   "id": "d57f2ebf-b0a2-4db8-8e37-1c0507cfe676",
   "metadata": {},
   "outputs": [
    {
     "data": {
      "text/plain": [
       "True"
      ]
     },
     "execution_count": 3,
     "metadata": {},
     "output_type": "execute_result"
    }
   ],
   "source": [
    "2==2"
   ]
  },
  {
   "cell_type": "code",
   "execution_count": 5,
   "id": "99f7cfd2-16cc-4279-860c-6f02390a3924",
   "metadata": {},
   "outputs": [
    {
     "data": {
      "text/plain": [
       "True"
      ]
     },
     "execution_count": 5,
     "metadata": {},
     "output_type": "execute_result"
    }
   ],
   "source": [
    "2!=3"
   ]
  },
  {
   "cell_type": "code",
   "execution_count": 7,
   "id": "9c634da9-f4e5-47f3-8ba7-bac1eba4f257",
   "metadata": {},
   "outputs": [
    {
     "data": {
      "text/plain": [
       "True"
      ]
     },
     "execution_count": 7,
     "metadata": {},
     "output_type": "execute_result"
    }
   ],
   "source": [
    "2>=2"
   ]
  },
  {
   "cell_type": "code",
   "execution_count": 9,
   "id": "a9cfbfe2-7452-4369-8245-9134843bc779",
   "metadata": {},
   "outputs": [
    {
     "data": {
      "text/plain": [
       "False"
      ]
     },
     "execution_count": 9,
     "metadata": {},
     "output_type": "execute_result"
    }
   ],
   "source": [
    "2>3"
   ]
  },
  {
   "cell_type": "code",
   "execution_count": 11,
   "id": "bd05cf7a-4cb4-4e3e-baf3-d516d9ca7448",
   "metadata": {},
   "outputs": [
    {
     "data": {
      "text/plain": [
       "True"
      ]
     },
     "execution_count": 11,
     "metadata": {},
     "output_type": "execute_result"
    }
   ],
   "source": [
    "2<=2"
   ]
  },
  {
   "cell_type": "markdown",
   "id": "53bce2b0-1fb1-49df-aee5-f38c8f508aee",
   "metadata": {},
   "source": [
    "x  y\n",
    "T  T  =T\n",
    "F  T   =F\n",
    "F  F   = F\n",
    "\n"
   ]
  },
  {
   "cell_type": "code",
   "execution_count": 23,
   "id": "b37e4a3b-53c7-433b-8e77-6689de88f16e",
   "metadata": {},
   "outputs": [
    {
     "data": {
      "text/plain": [
       "False"
      ]
     },
     "execution_count": 23,
     "metadata": {},
     "output_type": "execute_result"
    }
   ],
   "source": [
    "a=2\n",
    "b=2\n",
    "a>2 and b>2"
   ]
  },
  {
   "cell_type": "code",
   "execution_count": 25,
   "id": "a58087f0-a581-4849-b212-81fa37e51dd9",
   "metadata": {},
   "outputs": [
    {
     "data": {
      "text/plain": [
       "True"
      ]
     },
     "execution_count": 25,
     "metadata": {},
     "output_type": "execute_result"
    }
   ],
   "source": [
    "a<1 or b>1"
   ]
  },
  {
   "cell_type": "code",
   "execution_count": 27,
   "id": "4064ded7-f0e1-44f0-9b2f-40a30419cb62",
   "metadata": {},
   "outputs": [
    {
     "data": {
      "text/plain": [
       "False"
      ]
     },
     "execution_count": 27,
     "metadata": {},
     "output_type": "execute_result"
    }
   ],
   "source": [
    "not a>1"
   ]
  },
  {
   "cell_type": "code",
   "execution_count": 29,
   "id": "500f3b0a-24ad-42fe-b9a6-dfb5b38485b8",
   "metadata": {},
   "outputs": [
    {
     "data": {
      "text/plain": [
       "False"
      ]
     },
     "execution_count": 29,
     "metadata": {},
     "output_type": "execute_result"
    }
   ],
   "source": [
    "not b<3"
   ]
  },
  {
   "cell_type": "code",
   "execution_count": 33,
   "id": "61a53a2e-3e87-4f7d-b150-b1949d1b2efc",
   "metadata": {},
   "outputs": [
    {
     "data": {
      "text/plain": [
       "False"
      ]
     },
     "execution_count": 33,
     "metadata": {},
     "output_type": "execute_result"
    }
   ],
   "source": [
    "False or True and not True"
   ]
  },
  {
   "cell_type": "code",
   "execution_count": 39,
   "id": "4cda24fe-d0ed-406d-b98d-c252766c7710",
   "metadata": {},
   "outputs": [
    {
     "data": {
      "text/plain": [
       "True"
      ]
     },
     "execution_count": 39,
     "metadata": {},
     "output_type": "execute_result"
    }
   ],
   "source": [
    "x=3\n",
    "type(x) is int"
   ]
  },
  {
   "cell_type": "code",
   "execution_count": 41,
   "id": "16b7eb51-376a-4730-a4f1-cccca667ef75",
   "metadata": {},
   "outputs": [
    {
     "data": {
      "text/plain": [
       "False"
      ]
     },
     "execution_count": 41,
     "metadata": {},
     "output_type": "execute_result"
    }
   ],
   "source": [
    "type(x) is float"
   ]
  },
  {
   "cell_type": "code",
   "execution_count": 43,
   "id": "42f03a1f-7009-47e0-b891-04dd47857239",
   "metadata": {},
   "outputs": [
    {
     "data": {
      "text/plain": [
       "True"
      ]
     },
     "execution_count": 43,
     "metadata": {},
     "output_type": "execute_result"
    }
   ],
   "source": [
    "type(x) is not str"
   ]
  },
  {
   "cell_type": "code",
   "execution_count": 45,
   "id": "cf6e7da8-5acd-4d8a-b22f-d7c72bdc57ff",
   "metadata": {},
   "outputs": [
    {
     "data": {
      "text/plain": [
       "True"
      ]
     },
     "execution_count": 45,
     "metadata": {},
     "output_type": "execute_result"
    }
   ],
   "source": [
    "'h' in \"hello\""
   ]
  },
  {
   "cell_type": "code",
   "execution_count": 47,
   "id": "f0dfd48f-18a2-435d-b713-5cf7dc2fce57",
   "metadata": {},
   "outputs": [
    {
     "data": {
      "text/plain": [
       "True"
      ]
     },
     "execution_count": 47,
     "metadata": {},
     "output_type": "execute_result"
    }
   ],
   "source": [
    "'ell' in \"hello\""
   ]
  },
  {
   "cell_type": "code",
   "execution_count": 49,
   "id": "07205379-91c6-41f5-a4c8-8af77658534d",
   "metadata": {
    "scrolled": true
   },
   "outputs": [
    {
     "data": {
      "text/plain": [
       "False"
      ]
     },
     "execution_count": 49,
     "metadata": {},
     "output_type": "execute_result"
    }
   ],
   "source": [
    "'elo' in \"hello\""
   ]
  },
  {
   "cell_type": "code",
   "execution_count": 5,
   "id": "0513aef9-7b3e-430e-89d1-3a698cc42214",
   "metadata": {},
   "outputs": [],
   "source": [
    "days_of_week =['Sunday','Monday','Tuesday','Wednesday','Thurdday','Friday','saturday']"
   ]
  },
  {
   "cell_type": "code",
   "execution_count": 53,
   "id": "db055bd8-2f97-4cac-af74-8ef2b93f2b46",
   "metadata": {},
   "outputs": [
    {
     "data": {
      "text/plain": [
       "['Sunday', 'Monday', 'Tuesday', 'Wednesday', 'Thurdday', 'Friday', 'saturday']"
      ]
     },
     "execution_count": 53,
     "metadata": {},
     "output_type": "execute_result"
    }
   ],
   "source": [
    "days_of_week"
   ]
  },
  {
   "cell_type": "code",
   "execution_count": 55,
   "id": "1b983ce2-adc7-4e58-857f-d0db6bbadc00",
   "metadata": {},
   "outputs": [
    {
     "data": {
      "text/plain": [
       "7"
      ]
     },
     "execution_count": 55,
     "metadata": {},
     "output_type": "execute_result"
    }
   ],
   "source": [
    "len(days_of_week)"
   ]
  },
  {
   "cell_type": "code",
   "execution_count": 57,
   "id": "b8d53d87-be14-4da5-acfe-1655d6c0097e",
   "metadata": {},
   "outputs": [
    {
     "data": {
      "text/plain": [
       "'Sunday'"
      ]
     },
     "execution_count": 57,
     "metadata": {},
     "output_type": "execute_result"
    }
   ],
   "source": [
    "days_of_week[0]"
   ]
  },
  {
   "cell_type": "code",
   "execution_count": 59,
   "id": "8c2ade21-2a17-423a-95ed-77c744f4e3ef",
   "metadata": {},
   "outputs": [
    {
     "data": {
      "text/plain": [
       "'Wednesday'"
      ]
     },
     "execution_count": 59,
     "metadata": {},
     "output_type": "execute_result"
    }
   ],
   "source": [
    "days_of_week[3]"
   ]
  },
  {
   "cell_type": "code",
   "execution_count": 61,
   "id": "5cd1dade-3695-4cbb-826d-2007a286a22d",
   "metadata": {},
   "outputs": [
    {
     "data": {
      "text/plain": [
       "'saturday'"
      ]
     },
     "execution_count": 61,
     "metadata": {},
     "output_type": "execute_result"
    }
   ],
   "source": [
    "days_of_week[-1]"
   ]
  },
  {
   "cell_type": "code",
   "execution_count": 9,
   "id": "930ed7f6-41b8-4cb5-b382-6f50f8611f2e",
   "metadata": {},
   "outputs": [],
   "source": [
    "test_days = days_of_week[1:4]"
   ]
  },
  {
   "cell_type": "code",
   "execution_count": 15,
   "id": "9d1aa36c-7041-4658-ac15-88c79399194c",
   "metadata": {},
   "outputs": [
    {
     "data": {
      "text/plain": [
       "['Monday', 'Tuesday', 'Wednesday']"
      ]
     },
     "execution_count": 15,
     "metadata": {},
     "output_type": "execute_result"
    }
   ],
   "source": [
    "test_days"
   ]
  },
  {
   "cell_type": "code",
   "execution_count": 17,
   "id": "0e7b14cf-f760-432c-85af-2334c198a87e",
   "metadata": {},
   "outputs": [
    {
     "data": {
      "text/plain": [
       "['Sunday', 'Monday', 'Tuesday']"
      ]
     },
     "execution_count": 17,
     "metadata": {},
     "output_type": "execute_result"
    }
   ],
   "source": [
    "days_of_week[:3]"
   ]
  },
  {
   "cell_type": "code",
   "execution_count": 19,
   "id": "c4ba3f25-7f6c-4484-ba0f-2a47635fe6ee",
   "metadata": {},
   "outputs": [
    {
     "data": {
      "text/plain": [
       "['Friday', 'saturday']"
      ]
     },
     "execution_count": 19,
     "metadata": {},
     "output_type": "execute_result"
    }
   ],
   "source": [
    "days_of_week[5:]"
   ]
  },
  {
   "cell_type": "code",
   "execution_count": 27,
   "id": "cf619f45-7230-479f-bc24-79fdefd86af1",
   "metadata": {},
   "outputs": [
    {
     "data": {
      "text/plain": [
       "False"
      ]
     },
     "execution_count": 27,
     "metadata": {},
     "output_type": "execute_result"
    }
   ],
   "source": [
    "'Saturday' in days_of_week\n"
   ]
  },
  {
   "cell_type": "code",
   "execution_count": 29,
   "id": "90df00f8-5f36-4477-80d7-173abb459e8e",
   "metadata": {},
   "outputs": [
    {
     "data": {
      "text/plain": [
       "['Sunday', 'Monday', 'Tuesday', 'Wednesday', 'Thurdday', 'Friday', 'saturday']"
      ]
     },
     "execution_count": 29,
     "metadata": {},
     "output_type": "execute_result"
    }
   ],
   "source": [
    "days_of_week                     "
   ]
  },
  {
   "cell_type": "code",
   "execution_count": 31,
   "id": "3748735e-d6f2-4319-82cd-18a6bfebbd45",
   "metadata": {},
   "outputs": [
    {
     "data": {
      "text/plain": [
       "True"
      ]
     },
     "execution_count": 31,
     "metadata": {},
     "output_type": "execute_result"
    }
   ],
   "source": [
    "'saturday' in days_of_week"
   ]
  },
  {
   "cell_type": "code",
   "execution_count": 33,
   "id": "85b72462-31e3-42dc-ba7f-039aeb689418",
   "metadata": {},
   "outputs": [],
   "source": [
    "days_of_week[1] =\"mon\""
   ]
  },
  {
   "cell_type": "code",
   "execution_count": 35,
   "id": "1dda5ae1-5ccb-4934-9224-a40b0a84ff8a",
   "metadata": {},
   "outputs": [
    {
     "data": {
      "text/plain": [
       "['Sunday', 'mon', 'Tuesday', 'Wednesday', 'Thurdday', 'Friday', 'saturday']"
      ]
     },
     "execution_count": 35,
     "metadata": {},
     "output_type": "execute_result"
    }
   ],
   "source": [
    "days_of_week"
   ]
  },
  {
   "cell_type": "code",
   "execution_count": 39,
   "id": "a5b56d55-b378-4912-8e6b-ec29334ced86",
   "metadata": {},
   "outputs": [],
   "source": [
    "days_of_week[2:4] = [\"TUE\" , \"Wed\"]"
   ]
  },
  {
   "cell_type": "code",
   "execution_count": 41,
   "id": "359831d0-c0e2-48b1-876d-ccb7d34b99a5",
   "metadata": {},
   "outputs": [
    {
     "data": {
      "text/plain": [
       "['Sunday', 'mon', 'TUE', 'Wed', 'Thurdday', 'Friday', 'saturday']"
      ]
     },
     "execution_count": 41,
     "metadata": {},
     "output_type": "execute_result"
    }
   ],
   "source": [
    "days_of_week"
   ]
  },
  {
   "cell_type": "code",
   "execution_count": 43,
   "id": "e810506f-0981-460e-ab5e-654394f758f5",
   "metadata": {},
   "outputs": [],
   "source": [
    "days_of_week[1:3] = [\"Mondi\"]"
   ]
  },
  {
   "cell_type": "code",
   "execution_count": 45,
   "id": "b84a3478-1597-418d-8091-cd63e0806bde",
   "metadata": {},
   "outputs": [
    {
     "data": {
      "text/plain": [
       "['Sunday', 'Mondi', 'Wed', 'Thurdday', 'Friday', 'saturday']"
      ]
     },
     "execution_count": 45,
     "metadata": {},
     "output_type": "execute_result"
    }
   ],
   "source": [
    "days_of_week"
   ]
  },
  {
   "cell_type": "code",
   "execution_count": 49,
   "id": "99128648-5f1d-40f2-a646-e3ee064edbd2",
   "metadata": {},
   "outputs": [],
   "source": [
    "x = [0,1,2,3,4,5]"
   ]
  },
  {
   "cell_type": "code",
   "execution_count": 53,
   "id": "1a8ffb2a-cb85-4e09-a67f-73e560c1d41a",
   "metadata": {},
   "outputs": [
    {
     "ename": "TypeError",
     "evalue": "can only assign an iterable",
     "output_type": "error",
     "traceback": [
      "\u001b[1;31m---------------------------------------------------------------------------\u001b[0m",
      "\u001b[1;31mTypeError\u001b[0m                                 Traceback (most recent call last)",
      "Cell \u001b[1;32mIn[53], line 1\u001b[0m\n\u001b[1;32m----> 1\u001b[0m x [\u001b[38;5;241m1\u001b[39m:\u001b[38;5;241m3\u001b[39m] \u001b[38;5;241m=\u001b[39m \u001b[38;5;241m6\u001b[39m\n",
      "\u001b[1;31mTypeError\u001b[0m: can only assign an iterable"
     ]
    }
   ],
   "source": [
    "x [1:3] = 6"
   ]
  },
  {
   "cell_type": "code",
   "execution_count": 55,
   "id": "fe257445-ee7c-4570-8f92-fa33965e2de1",
   "metadata": {},
   "outputs": [],
   "source": [
    "x = ['a','b','c','d','e']"
   ]
  },
  {
   "cell_type": "code",
   "execution_count": 59,
   "id": "cf6dad5b-f8d9-4136-9d58-dff6419c3c30",
   "metadata": {},
   "outputs": [],
   "source": [
    "x [1:3] = 'f'"
   ]
  },
  {
   "cell_type": "code",
   "execution_count": 61,
   "id": "1a27b273-7968-420a-ac6b-1e1d3d2e0ee2",
   "metadata": {},
   "outputs": [
    {
     "data": {
      "text/plain": [
       "['a', 'f', 'd', 'e']"
      ]
     },
     "execution_count": 61,
     "metadata": {},
     "output_type": "execute_result"
    }
   ],
   "source": [
    "x"
   ]
  },
  {
   "cell_type": "code",
   "execution_count": 63,
   "id": "17ca8381-a2f5-4f10-bbfb-dbe3f910afde",
   "metadata": {},
   "outputs": [],
   "source": [
    "my_list = [1,2,3]"
   ]
  },
  {
   "cell_type": "code",
   "execution_count": 67,
   "id": "09621247-fe8b-49ed-a710-f812e7671210",
   "metadata": {},
   "outputs": [],
   "source": [
    "my_list.insert (1, \"inserted\")"
   ]
  },
  {
   "cell_type": "code",
   "execution_count": 69,
   "id": "e3d52c43-2de3-4b6e-bd3a-95bc5c9ecb3a",
   "metadata": {},
   "outputs": [
    {
     "data": {
      "text/plain": [
       "[1, 'inserted', 2, 3]"
      ]
     },
     "execution_count": 69,
     "metadata": {},
     "output_type": "execute_result"
    }
   ],
   "source": [
    "my_list"
   ]
  },
  {
   "cell_type": "code",
   "execution_count": 85,
   "id": "7bccc102-cd42-40f1-ad86-6cc5c143cb7e",
   "metadata": {},
   "outputs": [],
   "source": [
    "my_list = [1,2,3]"
   ]
  },
  {
   "cell_type": "code",
   "execution_count": 87,
   "id": "f2cf42b8-9e20-4da2-82b5-79195dba7893",
   "metadata": {},
   "outputs": [],
   "source": [
    "my_list.append(4)"
   ]
  },
  {
   "cell_type": "code",
   "execution_count": 89,
   "id": "56565287-b778-4af9-8d43-6811b8bb251f",
   "metadata": {},
   "outputs": [
    {
     "data": {
      "text/plain": [
       "[1, 2, 3, 4]"
      ]
     },
     "execution_count": 89,
     "metadata": {},
     "output_type": "execute_result"
    }
   ],
   "source": [
    "my_list"
   ]
  },
  {
   "cell_type": "code",
   "execution_count": 91,
   "id": "652e6f8e-3214-4c2b-9269-09f236a046dc",
   "metadata": {},
   "outputs": [],
   "source": [
    "list_to_add = [100,200]"
   ]
  },
  {
   "cell_type": "code",
   "execution_count": 93,
   "id": "a73d50b6-3ff4-4d02-88bf-e5743c10c270",
   "metadata": {},
   "outputs": [],
   "source": [
    "my_list.extend(list_to_add)"
   ]
  },
  {
   "cell_type": "code",
   "execution_count": 95,
   "id": "f0f20677-3623-4733-8e56-c42d28d9bf49",
   "metadata": {},
   "outputs": [
    {
     "data": {
      "text/plain": [
       "[1, 2, 3, 4, 100, 200]"
      ]
     },
     "execution_count": 95,
     "metadata": {},
     "output_type": "execute_result"
    }
   ],
   "source": [
    "my_list"
   ]
  },
  {
   "cell_type": "code",
   "execution_count": 97,
   "id": "6ca1dd80-ba02-4cdd-b7a7-4cae34c15dbd",
   "metadata": {},
   "outputs": [],
   "source": [
    "my_list = [\"One\",\"Two\", \"Three\"]"
   ]
  },
  {
   "cell_type": "code",
   "execution_count": 99,
   "id": "fc7f8090-f052-495f-a491-97237bc6e1da",
   "metadata": {},
   "outputs": [],
   "source": [
    "my_list.remove(\"Two\")"
   ]
  },
  {
   "cell_type": "code",
   "execution_count": 101,
   "id": "d67ea8c2-cae1-4155-9936-39f2f0d937bf",
   "metadata": {},
   "outputs": [
    {
     "data": {
      "text/plain": [
       "['One', 'Three']"
      ]
     },
     "execution_count": 101,
     "metadata": {},
     "output_type": "execute_result"
    }
   ],
   "source": [
    "my_list"
   ]
  },
  {
   "cell_type": "code",
   "execution_count": 103,
   "id": "d1484f1a-3017-4319-b847-84b58b46a286",
   "metadata": {},
   "outputs": [],
   "source": [
    "my_list = [1,2,3]"
   ]
  },
  {
   "cell_type": "code",
   "execution_count": 105,
   "id": "8cabd954-d390-4c44-b2ea-9e2193267001",
   "metadata": {},
   "outputs": [
    {
     "data": {
      "text/plain": [
       "2"
      ]
     },
     "execution_count": 105,
     "metadata": {},
     "output_type": "execute_result"
    }
   ],
   "source": [
    "my_list.pop(1)"
   ]
  },
  {
   "cell_type": "code",
   "execution_count": 107,
   "id": "e2eb06b3-7b2b-427e-8e38-43c7142c2f8c",
   "metadata": {},
   "outputs": [
    {
     "data": {
      "text/plain": [
       "[1, 3]"
      ]
     },
     "execution_count": 107,
     "metadata": {},
     "output_type": "execute_result"
    }
   ],
   "source": [
    "my_list"
   ]
  },
  {
   "cell_type": "code",
   "execution_count": 109,
   "id": "d81339e7-eeac-4f12-80e2-df3cad8de083",
   "metadata": {},
   "outputs": [
    {
     "data": {
      "text/plain": [
       "3"
      ]
     },
     "execution_count": 109,
     "metadata": {},
     "output_type": "execute_result"
    }
   ],
   "source": [
    "my_list.pop()"
   ]
  },
  {
   "cell_type": "code",
   "execution_count": null,
   "id": "93df3262-1d2a-4e9f-8390-47c83320ecbd",
   "metadata": {},
   "outputs": [],
   "source": []
  }
 ],
 "metadata": {
  "kernelspec": {
   "display_name": "Python 3 (ipykernel)",
   "language": "python",
   "name": "python3"
  },
  "language_info": {
   "codemirror_mode": {
    "name": "ipython",
    "version": 3
   },
   "file_extension": ".py",
   "mimetype": "text/x-python",
   "name": "python",
   "nbconvert_exporter": "python",
   "pygments_lexer": "ipython3",
   "version": "3.12.4"
  }
 },
 "nbformat": 4,
 "nbformat_minor": 5
}
